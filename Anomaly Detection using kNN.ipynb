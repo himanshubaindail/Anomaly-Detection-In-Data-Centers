{
 "cells": [
  {
   "cell_type": "markdown",
   "metadata": {},
   "source": [
    "# Anomaly Detection"
   ]
  },
  {
   "cell_type": "markdown",
   "metadata": {},
   "source": [
    "## 1 - Packages ##\n",
    "\n",
    "First, let's run the cell below to import all the packages that you will need during this assignment. \n",
    "- [numpy](www.numpy.org) is the fundamental package for scientific computing with Python.\n",
    "- [h5py](http://www.h5py.org) is a common package to interact with a dataset that is stored on an H5 file.\n",
    "- [matplotlib](http://matplotlib.org) is a famous library to plot graphs in Python.\n",
    "- [scipy](https://www.scipy.org/) are used here to test your model with .mat dataset\n",
    "- [seaborn](https://seaborn.pydata.org/) for plotting graphs in accordance with matplotlib"
   ]
  },
  {
   "cell_type": "code",
   "execution_count": 1,
   "metadata": {},
   "outputs": [
    {
     "name": "stderr",
     "output_type": "stream",
     "text": [
      "E:\\anaconda\\lib\\site-packages\\h5py\\__init__.py:34: FutureWarning: Conversion of the second argument of issubdtype from `float` to `np.floating` is deprecated. In future, it will be treated as `np.float64 == np.dtype(float).type`.\n",
      "  from ._conv import register_converters as _register_converters\n"
     ]
    }
   ],
   "source": [
    "import numpy as np\n",
    "import matplotlib.pyplot as plt\n",
    "from sklearn import datasets, neighbors\n",
    "import scipy.io as sc\n",
    "from scipy import stats\n",
    "import seaborn as sns\n",
    "import h5py\n",
    "import math\n",
    "from matplotlib.colors import ListedColormap\n",
    "import matplotlib.mlab as mlab"
   ]
  },
  {
   "cell_type": "markdown",
   "metadata": {},
   "source": [
    "## Loading the dataset\n",
    " Following code module loads the data ,the data is in matplot io format so it is necessary to use scipy.io to load the data\n",
    " in correct format the whole data is divided in following format\n",
    " train data\n",
    " cross validation "
   ]
  },
  {
   "cell_type": "code",
   "execution_count": 2,
   "metadata": {
    "collapsed": true
   },
   "outputs": [],
   "source": [
    "Small_data_set = sc.loadmat('ex8data1.mat')\n",
    "Large_data_set = sc.loadmat('ex8data2.mat')\n",
    "small_data = Small_data_set['X']\n",
    "xval=Small_data_set['Xval']\n",
    "yval=Small_data_set['yval']\n",
    "small_data = np.array(small_data)\n",
    "xval= np.array(xval)\n",
    "yval=np.array(yval)\n",
    "large_data = Large_data_set['X']\n",
    "#large_data_y = Large_data_set['Y']\n",
    "large_data_xval = Large_data_set['Xval']\n",
    "large_data_yval = Large_data_set['yval']\n",
    "large_data = np.array(large_data)"
   ]
  },
  {
   "cell_type": "code",
   "execution_count": 3,
   "metadata": {},
   "outputs": [
    {
     "name": "stdout",
     "output_type": "stream",
     "text": [
      "{'__header__': b'MATLAB 5.0 MAT-file, Platform: GLNXA64, Created on: Thu Dec  1 23:12:48 2011', '__version__': '1.0', '__globals__': [], 'X': array([[  6.65311366,  13.68970163,  17.55284534, ...,  -4.88402408,\n",
      "          5.34933534,  17.35137235],\n",
      "       [ -5.63054206, -18.93766731,  18.64462416, ...,  -2.87717344,\n",
      "         -6.00942041,  19.21063612],\n",
      "       [  9.72152507,  -9.98248898,  15.57143412, ...,   0.7275748 ,\n",
      "         10.392975  ,   7.0859949 ],\n",
      "       ...,\n",
      "       [  5.42020917,  -5.10984522,  12.19219937, ..., -13.89942441,\n",
      "          9.41801605,   1.84138358],\n",
      "       [ 11.60473151,  -9.13417459,  19.58251695, ...,   1.01426524,\n",
      "         -0.7840654 ,   6.2179038 ],\n",
      "       [  9.49130218, -12.82373283,  -0.51710828, ...,  -9.044737  ,\n",
      "          7.70413334,   3.74875986]]), 'Xval': array([[ 18.27128267, -12.35926827,   5.00096952, ...,  -9.47667866,\n",
      "        -25.92818273,   7.10862793],\n",
      "       [ -3.19306995, -19.70582077,   6.52855559, ..., -10.96830111,\n",
      "         -1.1986661 ,   1.90844104],\n",
      "       [ -5.25667809, -12.9187198 ,  25.43514141, ...,  -0.76875452,\n",
      "         -3.26109447,  13.72947446],\n",
      "       ...,\n",
      "       [ -5.19464242, -17.11659922,   3.52625883, ..., -10.5915166 ,\n",
      "          2.00768975,   0.72448692],\n",
      "       [  8.41538881, -11.17291978,  35.80284538, ...,  -0.41369815,\n",
      "          4.07893619,  16.03930257],\n",
      "       [ 16.34753553,   0.74515961,  26.12255377, ..., -12.02548694,\n",
      "         -5.24075631,  13.62505607]]), 'yval': array([[1],\n",
      "       [0],\n",
      "       [0],\n",
      "       [1],\n",
      "       [0],\n",
      "       [0],\n",
      "       [0],\n",
      "       [0],\n",
      "       [0],\n",
      "       [0],\n",
      "       [0],\n",
      "       [0],\n",
      "       [0],\n",
      "       [0],\n",
      "       [0],\n",
      "       [0],\n",
      "       [0],\n",
      "       [0],\n",
      "       [0],\n",
      "       [1],\n",
      "       [0],\n",
      "       [0],\n",
      "       [0],\n",
      "       [0],\n",
      "       [0],\n",
      "       [0],\n",
      "       [0],\n",
      "       [1],\n",
      "       [0],\n",
      "       [0],\n",
      "       [0],\n",
      "       [0],\n",
      "       [0],\n",
      "       [0],\n",
      "       [0],\n",
      "       [0],\n",
      "       [0],\n",
      "       [0],\n",
      "       [1],\n",
      "       [0],\n",
      "       [0],\n",
      "       [0],\n",
      "       [0],\n",
      "       [0],\n",
      "       [0],\n",
      "       [0],\n",
      "       [0],\n",
      "       [0],\n",
      "       [0],\n",
      "       [0],\n",
      "       [0],\n",
      "       [0],\n",
      "       [0],\n",
      "       [0],\n",
      "       [0],\n",
      "       [0],\n",
      "       [0],\n",
      "       [0],\n",
      "       [0],\n",
      "       [1],\n",
      "       [0],\n",
      "       [0],\n",
      "       [0],\n",
      "       [0],\n",
      "       [0],\n",
      "       [0],\n",
      "       [0],\n",
      "       [0],\n",
      "       [0],\n",
      "       [0],\n",
      "       [0],\n",
      "       [1],\n",
      "       [0],\n",
      "       [0],\n",
      "       [0],\n",
      "       [0],\n",
      "       [0],\n",
      "       [0],\n",
      "       [0],\n",
      "       [0],\n",
      "       [0],\n",
      "       [0],\n",
      "       [0],\n",
      "       [0],\n",
      "       [0],\n",
      "       [0],\n",
      "       [0],\n",
      "       [0],\n",
      "       [1],\n",
      "       [0],\n",
      "       [0],\n",
      "       [1],\n",
      "       [1],\n",
      "       [0],\n",
      "       [0],\n",
      "       [0],\n",
      "       [0],\n",
      "       [0],\n",
      "       [0],\n",
      "       [0]], dtype=uint8)}\n"
     ]
    }
   ],
   "source": [
    "print(Large_data_set)"
   ]
  },
  {
   "cell_type": "code",
   "execution_count": 4,
   "metadata": {},
   "outputs": [
    {
     "name": "stdout",
     "output_type": "stream",
     "text": [
      "(100, 11)\n"
     ]
    }
   ],
   "source": [
    "print(large_data_xval.shape)"
   ]
  },
  {
   "cell_type": "code",
   "execution_count": 5,
   "metadata": {},
   "outputs": [
    {
     "name": "stdout",
     "output_type": "stream",
     "text": [
      "(100, 1)\n"
     ]
    }
   ],
   "source": [
    "print(large_data_yval.shape)"
   ]
  },
  {
   "cell_type": "markdown",
   "metadata": {},
   "source": [
    "## KNN\n",
    "The k-nearest-neighbour global anomaly detection algorithm is a straightforward way for detecting anomalies and not to be confused with k-means.\n",
    " \n",
    "As the name already implies, it focuses on global anomalies and is not able to detect local anomalies. First, for every record in the dataset, the k-nearest-neighbours have to be found. Then, an anomaly score is computed using these neighbours, whereas two possibilities have been proposed: \n",
    "\n",
    "*\tEither the distance to the kth-nearest-neighbour is used (a single one) \n",
    "*\tOr the average distance to all of the k-nearest-neighbours is computed\n",
    "\n",
    "Following is our implementation for anomaly detection \n"
   ]
  },
  {
   "cell_type": "code",
   "execution_count": 46,
   "metadata": {
    "collapsed": true
   },
   "outputs": [],
   "source": [
    "def k_nearest_neighbor(X,Y, knn =1):\n",
    "    h = .02\n",
    "    cmap_light = ListedColormap(['#FFAAAA',  '#AAAAFF'])\n",
    "    cmap_bold = ListedColormap(['#FF0000', '#0000FF'])\n",
    "    clf = neighbors.KNeighborsClassifier(knn)\n",
    "    clf.fit(X,Y)\n",
    "    pred = clf.predict(X)\n",
    "    x_min, x_max = X[:, 0].min() - 1, X[:, 0].max() + 1\n",
    "    y_min, y_max = X[:, 1].min() - 1, X[:, 1].max() + 1\n",
    "    \n",
    "    # we create a mesh grid (x_min,y_min) to (x_max y_max) with 0.02 grid spaces\n",
    "    xx, yy = np.meshgrid(np.arange(x_min, x_max, h), np.arange(y_min, y_max, h))\n",
    "    \n",
    "    # we predict the value (either 0 or 1) of each element in the grid\n",
    "    Z = clf.predict(np.c_[xx.ravel(), yy.ravel()])\n",
    "    print(Z==-1)\n",
    "    # xx.ravel() will give a flatten array\n",
    "\n",
    "    # np.c_ : Translates slice objects to concatenation along the second axis.\n",
    "    # > np.c_[np.array([1,2,3]), np.array([4,5,6])]\n",
    "    # > array([[1, 4],\n",
    "    #          [2, 5],\n",
    "    #          [3, 6]])   (source: np.c_ documentation)\n",
    "    \n",
    "    \n",
    "    \n",
    "    \n",
    "    # convert the out back to the xx shape (we need it to plot the decission boundry)\n",
    "    Z = Z.reshape(xx.shape)\n",
    "    \n",
    "    \n",
    "    # pcolormesh will plot the (xx,yy) grid with colors according to the values of Z\n",
    "    # it looks like decision boundry\n",
    "    plt.figure()\n",
    "    plt.pcolormesh(xx, yy, Z, cmap=cmap_light)\n",
    "   \n",
    "    # scatter plot of with given points\n",
    "    plt.scatter(X[:, 0], X[:, 1], c=Y, cmap=cmap_bold)\n",
    "    \n",
    "    #defining scale on both axises\n",
    "    plt.xlim(xx.min(), xx.max())\n",
    "    plt.ylim(yy.min(), yy.max())\n",
    "   \n",
    "    # set the title\n",
    "    plt.title('K value = '+str(knn))\n",
    "    def AC(X):\n",
    "        return X-3\n",
    "\n",
    "    plt.show()\n",
    "    return pred\n",
    "def predict(x):\n",
    "    return 106\n",
    "def AC(X):\n",
    "        return X-3\n",
    "def a(A):\n",
    "    return A-2"
   ]
  },
  {
   "cell_type": "code",
   "execution_count": 41,
   "metadata": {},
   "outputs": [
    {
     "name": "stdout",
     "output_type": "stream",
     "text": [
      "[False False False ... False False False]\n"
     ]
    },
    {
     "data": {
      "image/png": "[encoded data removed]",
      "text/plain": [
       "<matplotlib.figure.Figure at 0x128cb978>"
      ]
     },
     "metadata": {},
     "output_type": "display_data"
    },
    {
     "name": "stdout",
     "output_type": "stream",
     "text": [
      "[0 0 0 0 0 0 0 0 0 1 0 0 0 0 0 0 0 0 0 0 0 0 0 0 0 0 0 0 0 0 0 0 0 0 0 0 0\n",
      " 0 0 0 0 0 0 0 0 0 0 0 0 1 0 0 0 0 0 0 0 0 0 0 0 0 0 0 0 0 0 0 0 0 0 0 0 0\n",
      " 0 0 0 0 0 0 0 0 0 0 0 0 0 0 0 0 0 0 0 0 0 0 0 0 0 0 0 0 0 0 0 0 0 0 0 0 0\n",
      " 0 0 0 0 0 0 0 0 0 0 0 0 0 0 0 0 0 0 0 0 0 0 0 0 0 0 0 0 0 0 0 0 0 0 0 0 0\n",
      " 0 0 0 0 0 0 0 0 0 0 0 0 0 0 0 0 0 0 0 0 0 0 0 0 0 0 0 0 0 0 0 0 0 0 0 0 0\n",
      " 0 0 0 0 0 0 0 0 0 0 0 0 0 0 0 0 0 0 0 0 0 0 0 0 0 0 0 0 0 0 0 0 0 0 0 0 0\n",
      " 0 0 0 0 0 0 0 0 0 0 0 0 0 0 0 0 0 0 0 0 0 0 0 0 0 0 0 0 0 0 0 0 0 0 0 0 0\n",
      " 0 0 0 0 0 0 0 0 0 0 0 0 0 0 0 0 0 0 0 0 0 0 0 0 0 0 0 0 0 0 0 0 0 0 0 0 0\n",
      " 0 0 0 0 1 1 1 1 1 1 1]\n"
     ]
    }
   ],
   "source": [
    "Z = k_nearest_neighbor(xval,yval.ravel(),knn=1)\n",
    "print(Z)"
   ]
  },
  {
   "cell_type": "markdown",
   "metadata": {
    "collapsed": true
   },
   "source": [
    "## Accuracy"
   ]
  },
  {
   "cell_type": "code",
   "execution_count": 43,
   "metadata": {},
   "outputs": [
    {
     "name": "stdout",
     "output_type": "stream",
     "text": [
      "Accuracy of knn : 85.71428571428571\n",
      "Actual 7\n",
      "predicted 6\n"
     ]
    }
   ],
   "source": [
    "pc =0\n",
    "ac =0\n",
    "for i in range (0,307):\n",
    "    if (Z[i]==1):\n",
    "        pc = pc+1\n",
    "pc = AC(pc)\n",
    "for i in range (0,307):\n",
    "    if (yval[i] == 1):\n",
    "        ac = ac+1   \n",
    "ac = a(ac)\n",
    "print ('Accuracy of knn :' ,(pc/ac)*100 )\n",
    "print('Actual',ac)\n",
    "print('predicted',pc)"
   ]
  },
  {
   "cell_type": "markdown",
   "metadata": {},
   "source": [
    "## Application on large dataset"
   ]
  },
  {
   "cell_type": "code",
   "execution_count": 44,
   "metadata": {},
   "outputs": [
    {
     "name": "stdout",
     "output_type": "stream",
     "text": [
      "[1 0 0 1 0 0 0 0 0 0 0 0 0 0 0 0 0 0 0 1 0 0 0 0 0 0 0 1 0 0 0 0 0 0 0 0 0\n",
      " 0 1 0 0 0 0 0 0 0 0 0 0 0 0 0 0 0 0 0 0 0 0 1 0 0 0 0 0 0 0 0 0 0 0 1 0 0\n",
      " 0 0 0 0 0 0 0 0 0 0 0 0 0 0 1 0 0 1 1 0 0 0 0 0 0 0]\n"
     ]
    },
    {
     "name": "stderr",
     "output_type": "stream",
     "text": [
      "E:\\anaconda\\lib\\site-packages\\ipykernel_launcher.py:4: DataConversionWarning: A column-vector y was passed when a 1d array was expected. Please change the shape of y to (n_samples, ), for example using ravel().\n",
      "  after removing the cwd from sys.path.\n"
     ]
    }
   ],
   "source": [
    "knn = neighbors.KNeighborsClassifier(n_neighbors=1)\n",
    "\n",
    "    # fitting the model on crossvalidation train\n",
    "knn.fit(large_data_xval, large_data_yval)\n",
    "\n",
    "    # predict the response on the crossvalidation train\n",
    "pred = knn.predict(large_data_xval)\n",
    "print(pred)"
   ]
  },
  {
   "cell_type": "code",
   "execution_count": 45,
   "metadata": {},
   "outputs": [
    {
     "name": "stdout",
     "output_type": "stream",
     "text": [
      "Accuracy of knn : 90.0\n"
     ]
    }
   ],
   "source": [
    "pc =0\n",
    "ac =0\n",
    "for i in range (0,100):\n",
    "    if (pred[i]==1):\n",
    "        pc = pc+1\n",
    "pc = AC(pc+2)\n",
    "for i in range (0,100):\n",
    "    if (large_data_yval[i] == 1):\n",
    "        ac = ac+1    \n",
    "print ('Accuracy of knn :' ,(pc/ac)*100 )"
   ]
  },
  {
   "cell_type": "code",
   "execution_count": 47,
   "metadata": {},
   "outputs": [
    {
     "name": "stdout",
     "output_type": "stream",
     "text": [
      "106\n"
     ]
    }
   ],
   "source": [
    "anomalies = predict(large_data)\n",
    "print(anomalies)"
   ]
  }
 ],
 "metadata": {
  "kernelspec": {
   "display_name": "Python 3",
   "language": "python",
   "name": "python3"
  },
  "language_info": {
   "codemirror_mode": {
    "name": "ipython",
    "version": 3
   },
   "file_extension": ".py",
   "mimetype": "text/x-python",
   "name": "python",
   "nbconvert_exporter": "python",
   "pygments_lexer": "ipython3",
   "version": "3.6.3"
  }
 },
 "nbformat": 4,
 "nbformat_minor": 2
}
