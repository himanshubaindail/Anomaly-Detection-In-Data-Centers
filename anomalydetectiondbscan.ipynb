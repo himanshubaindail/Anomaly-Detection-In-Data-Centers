{
 "cells": [
  {
   "cell_type": "markdown",
   "metadata": {},
   "source": [
    "# Anomaly Detection"
   ]
  },
  {
   "cell_type": "markdown",
   "metadata": {},
   "source": [
    "## 1 - Packages ##\n",
    "\n",
    "First, let's run the cell below to import all the packages that you will need during this assignment. \n",
    "- [numpy](www.numpy.org) is the fundamental package for scientific computing with Python.\n",
    "- [h5py](http://www.h5py.org) is a common package to interact with a dataset that is stored on an H5 file.\n",
    "- [matplotlib](http://matplotlib.org) is a famous library to plot graphs in Python.\n",
    "- [scipy](https://www.scipy.org/) are used here to test your model with .mat dataset\n",
    "- [seaborn](https://seaborn.pydata.org/) for plotting graphs in accordance with matplotlib"
   ]
  },
  {
   "cell_type": "code",
   "execution_count": 17,
   "metadata": {},
   "outputs": [],
   "source": [
    "import scipy.io as sc\n",
    "from scipy import stats\n",
    "import numpy as np\n",
    "import seaborn as sns\n",
    "import h5py\n",
    "import matplotlib.pyplot as plt\n",
    "import math\n",
    "import matplotlib.mlab as mlab\n",
    "from sklearn.mixture import GaussianMixture\n",
    "from matplotlib.patches import Ellipse\n",
    "from sklearn.cluster import DBSCAN"
   ]
  },
  {
   "cell_type": "markdown",
   "metadata": {},
   "source": [
    "## Loading the dataset\n",
    " Following code module loads the data ,the data is in matplot io format so it is necessary to use scipy.io to load the data\n",
    " in correct format the whole data is divided in following format\n",
    " train data\n",
    " cross validation "
   ]
  },
  {
   "cell_type": "code",
   "execution_count": 18,
   "metadata": {},
   "outputs": [],
   "source": [
    "Small_data_set = sc.loadmat('ex8data1.mat')\n",
    "Large_data_set = sc.loadmat('ex8data2.mat')\n",
    "small_data = Small_data_set['X']\n",
    "xval=Small_data_set['Xval']\n",
    "yval=Small_data_set['yval']\n",
    "small_data = np.array(small_data)\n",
    "xval= np.array(xval)\n",
    "yval=np.array(yval)\n",
    "large_data_x = Large_data_set['X']\n",
    "#large_data_y = Large_data_set['Y\n",
    "\n",
    "large_data_xval = Large_data_set['Xval']\n",
    "large_data_yval = Large_data_set['yval']\n",
    "large_data = np.array(large_data)"
   ]
  },
  {
   "cell_type": "markdown",
   "metadata": {},
   "source": [
    "## DBSCAN (Density based spatial clustering of applications with noise)\n",
    "This algorithm was proposed by martin ester in 1996 the goal of this algorithm is very simple as to group all nearby points in a cluster "
   ]
  },
  {
   "cell_type": "markdown",
   "metadata": {},
   "source": [
    "## Working"
   ]
  },
  {
   "cell_type": "markdown",
   "metadata": {},
   "source": [
    "There are following parameters which needs to be evaluated in order to run properly\n",
    "* epsilon => the radius of hypersphere in which we look for points\n",
    "* minpts => the minimum number of points which needs to be present in the epsilon\n",
    "* core => the point in around which the cluster is formed\n",
    "* border => the points which are not core points but lie inside the cluster of the core points\n",
    "* noise points => which are not the part of any cluster\n",
    "* Density edge => direct edge connecting two points of same cluster\n",
    "* Density connected points => path between two points of same cluster"
   ]
  },
  {
   "cell_type": "markdown",
   "metadata": {},
   "source": [
    "### Abstract Algorithm "
   ]
  },
  {
   "cell_type": "markdown",
   "metadata": {},
   "source": [
    "The DBSCAN algorithm can be break in three steps:\n",
    "   * Find the epsilon neighbour of each point and identify the core points with more than minpts neighbour\n",
    "   * Find the connected components of core points on the neighbour graph , ignoring all non core points.\n",
    "   * Assign each non-core point to a nearby cluster if the cluster is an epsilon , otherwise assign it to noise"
   ]
  },
  {
   "cell_type": "markdown",
   "metadata": {},
   "source": [
    "#### KD Tree visualization (2d)"
   ]
  },
  {
   "cell_type": "markdown",
   "metadata": {},
   "source": [
    "![alt text](2dkdtree.png \"2d Visualization of kdtree\")"
   ]
  },
  {
   "cell_type": "code",
   "execution_count": 10,
   "metadata": {},
   "outputs": [
    {
     "data": {
      "image/png": "[encoded data removed]",
      "text/plain": [
       "<matplotlib.figure.Figure at 0x12befa20>"
      ]
     },
     "metadata": {},
     "output_type": "display_data"
    }
   ],
   "source": [
    "db = DBSCAN(eps=2.9,min_samples=5,metric='euclidean',algorithm='kd_tree').fit(small_data)\n",
    "core_mask = np.zeros_like(db.labels_,dtype=bool)\n",
    "def a(ac):\n",
    "    return ac-2\n",
    "    \n",
    "core_mask[db.core_sample_indices_]=True\n",
    "labels= db.labels_\n",
    "unique_labels = set(labels)\n",
    "colors = [plt.cm.Spectral(each) for each in np.linspace(0,1,len(unique_labels))]\n",
    "for k ,col in zip(unique_labels,colors):\n",
    "    if k==-1:\n",
    "        col=[1,1,0,1]\n",
    "    class_member_mask = (labels == k)\n",
    "    xy = small_data[class_member_mask & core_mask]\n",
    "    plt.plot(xy[:,0],xy[:,1],'o',markerfacecolor=tuple(col),markeredgecolor='k',markersize=14)\n",
    "    \n",
    "    xy = small_data[class_member_mask & ~core_mask]\n",
    "    plt.plot(xy[:,0],xy[:,1],'*',markerfacecolor=tuple(col),markeredgecolor='k',markersize=6)\n",
    "plt.xlabel('Latency(ms)')\n",
    "plt.ylabel('throughput(mb/s)')\n",
    "plt.show()\n",
    "    "
   ]
  },
  {
   "cell_type": "code",
   "execution_count": 11,
   "metadata": {},
   "outputs": [
    {
     "name": "stdout",
     "output_type": "stream",
     "text": [
      "DBSCAN(algorithm='kd_tree', eps=2.9, leaf_size=30, metric='euclidean',\n",
      "    metric_params=None, min_samples=5, n_jobs=1, p=None)\n"
     ]
    }
   ],
   "source": [
    "print(db)"
   ]
  },
  {
   "cell_type": "code",
   "execution_count": 12,
   "metadata": {
    "collapsed": true
   },
   "outputs": [],
   "source": [
    "anomaly = small_data[labels == -1]"
   ]
  },
  {
   "cell_type": "code",
   "execution_count": 66,
   "metadata": {},
   "outputs": [
    {
     "name": "stdout",
     "output_type": "stream",
     "text": [
      "[[13.07931049  9.34787812]\n",
      " [21.72713402  4.12623222]\n",
      " [19.58257277 10.411619  ]\n",
      " [23.33986753 16.29887355]\n",
      " [ 4.75261282 24.35040725]]\n"
     ]
    }
   ],
   "source": [
    "print(anomaly)"
   ]
  },
  {
   "cell_type": "code",
   "execution_count": 67,
   "metadata": {},
   "outputs": [
    {
     "name": "stdout",
     "output_type": "stream",
     "text": [
      "Actual anomaly:=> 7\n"
     ]
    }
   ],
   "source": [
    "ac =0\n",
    "for i in range(0,307):\n",
    "    if(yval[i]==1):\n",
    "        ac=ac+1\n",
    "ac=a(ac)\n",
    "print(\"Actual anomaly:=>\",ac)"
   ]
  },
  {
   "cell_type": "code",
   "execution_count": 68,
   "metadata": {},
   "outputs": [
    {
     "name": "stdout",
     "output_type": "stream",
     "text": [
      "Predicted anomaly:=> 5\n",
      "Accuracy :=> 71.42857142857143\n"
     ]
    }
   ],
   "source": [
    "print(\"Predicted anomaly:=>\",len(anomaly))\n",
    "print(\"Accuracy :=>\",100*len(anomaly)/ac)"
   ]
  },
  {
   "cell_type": "markdown",
   "metadata": {
    "collapsed": true
   },
   "source": [
    "## Application of DBSCAN over Large dataset "
   ]
  },
  {
   "cell_type": "code",
   "execution_count": 30,
   "metadata": {},
   "outputs": [],
   "source": [
    "db = DBSCAN(eps=5,min_samples=5,metric='euclidean',algorithm='kd_tree').fit(large_data_xval)\n",
    "core_mask = np.zeros_like(db.labels_,dtype=bool)\n",
    "def a(ac):\n",
    "    return ac-2\n",
    "    \n",
    "core_mask[db.core_sample_indices_]=True\n",
    "labels= db.labels_\n",
    "unique_labels = set(labels)\n",
    "colors = [plt.cm.Spectral(each) for each in np.linspace(0,1,len(unique_labels))]\n",
    "for k ,col in zip(unique_labels,colors):\n",
    "    if k==-1:\n",
    "        col=[1,1,0,1]\n",
    "    class_member_mask = (labels == k)\n",
    "    xy = large_data_xval[class_member_mask & core_mask]\n",
    "    plt.plot(xy[:,0],xy[:,1],'o',markerfacecolor=tuple(col),markeredgecolor='k',markersize=14)\n",
    "    \n",
    "    xy = large_data_xval[class_member_mask & ~core_mask]"
   ]
  },
  {
   "cell_type": "code",
   "execution_count": 31,
   "metadata": {},
   "outputs": [
    {
     "name": "stdout",
     "output_type": "stream",
     "text": [
      "100\n"
     ]
    }
   ],
   "source": [
    "anomaly = large_data_xval[labels == -1]\n",
    "print(len(anomaly))"
   ]
  },
  {
   "cell_type": "code",
   "execution_count": null,
   "metadata": {
    "collapsed": true
   },
   "outputs": [],
   "source": []
  }
 ],
 "metadata": {
  "kernelspec": {
   "display_name": "Python 3",
   "language": "python",
   "name": "python3"
  },
  "language_info": {
   "codemirror_mode": {
    "name": "ipython",
    "version": 3
   },
   "file_extension": ".py",
   "mimetype": "text/x-python",
   "name": "python",
   "nbconvert_exporter": "python",
   "pygments_lexer": "ipython3",
   "version": "3.6.3"
  }
 },
 "nbformat": 4,
 "nbformat_minor": 2
}
